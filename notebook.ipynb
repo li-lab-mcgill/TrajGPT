{
 "cells": [
  {
   "cell_type": "markdown",
   "id": "e90d1a38",
   "metadata": {},
   "source": [
    "# Tutorial of TrajGPT on irreguarly-sampled time series in EHR data\n",
    "\n",
    "In this notebook, we provide a tutorial about how to run **TrajGPT** for irregularly‐sampled time series, covering:\n",
    "\n",
    "1. Data loading  \n",
    "2. Model instantiation  \n",
    "3. Pre‐training\n",
    "4. Visualization by UMAP\n",
    "5. Forecasting (auto‐regressive and time‐specific)  \n"
   ]
  },
  {
   "attachments": {},
   "cell_type": "markdown",
   "id": "59c61008",
   "metadata": {},
   "source": [
    "<img src=\"figures/TrajGPT_architecture.png\" alt=\"TrajGPT Architecture\" width=\"800\"/>\n"
   ]
  },
  {
   "cell_type": "markdown",
   "id": "2c41c854",
   "metadata": {},
   "source": [
    "## 1. Data Loading \n",
    "\n",
    "We’ll use the bundled `data_pipeline` to load an EHR‐style CSV with `(value, timestamp)` pairs.\n"
   ]
  },
  {
   "cell_type": "markdown",
   "id": "70787095",
   "metadata": {},
   "source": [
    "We present the longitudinal EHR dataset (e.g., PopHR) in the above form. Each row represents a single clinical event for a given patient with its occurred date. We can construct a series of clinical events by computing its age at diagnosis in a month-level.  As a result, this time-series representation use id to track all events for one individual as well as the the sequence of phenotypes over a patient’s life.\n",
    "\n",
    "\n",
    "| Column             | Description                                                                                          |\n",
    "|--------------------|------------------------------------------------------------------------------------------------------|\n",
    "| **id**             | Unique patient identifier                                                                            |\n",
    "| **date**           | Date of the clinical event (YYYY-MM-DD)                                                              |\n",
    "| **icd**            | Original International Classification of Diseases (ICD) code assigned at that visit                  |\n",
    "| **PheCode**        | Mapped “PheCode” (higher-level phenotype grouping)                                                   |\n",
    "| **Phenotype**      | Human-readable description of the PheCode                                                            |\n",
    "| **month_of_birth** | Patient’s date of birth (assumed to be the first day of the birth month)                             |\n",
    "| **age_at_diag**    | Age at this diagnosis in months (i.e., months since birth to the event date)                         |\n",
    "\n"
   ]
  },
  {
   "cell_type": "code",
   "execution_count": 5,
   "id": "556c2d81",
   "metadata": {},
   "outputs": [],
   "source": [
    "import torch\n",
    "from torch.utils.data import DataLoader"
   ]
  },
  {
   "cell_type": "code",
   "execution_count": 2,
   "id": "639a4455",
   "metadata": {},
   "outputs": [
    {
     "data": {
      "text/html": [
       "<div>\n",
       "<style scoped>\n",
       "    .dataframe tbody tr th:only-of-type {\n",
       "        vertical-align: middle;\n",
       "    }\n",
       "\n",
       "    .dataframe tbody tr th {\n",
       "        vertical-align: top;\n",
       "    }\n",
       "\n",
       "    .dataframe thead th {\n",
       "        text-align: right;\n",
       "    }\n",
       "</style>\n",
       "<table border=\"1\" class=\"dataframe\">\n",
       "  <thead>\n",
       "    <tr style=\"text-align: right;\">\n",
       "      <th></th>\n",
       "      <th>id</th>\n",
       "      <th>date</th>\n",
       "      <th>icd</th>\n",
       "      <th>PheCode</th>\n",
       "      <th>Phenotype</th>\n",
       "      <th>month_of_birth</th>\n",
       "      <th>age_at_diag</th>\n",
       "    </tr>\n",
       "  </thead>\n",
       "  <tbody>\n",
       "    <tr>\n",
       "      <th>0</th>\n",
       "      <td>50049192</td>\n",
       "      <td>1999-08-09</td>\n",
       "      <td>4931</td>\n",
       "      <td>495</td>\n",
       "      <td>Asthma</td>\n",
       "      <td>1926-01-01</td>\n",
       "      <td>896</td>\n",
       "    </tr>\n",
       "    <tr>\n",
       "      <th>1</th>\n",
       "      <td>50049192</td>\n",
       "      <td>1999-08-23</td>\n",
       "      <td>7998</td>\n",
       "      <td>1019</td>\n",
       "      <td>Other ill-defined and unknown causes of morbid...</td>\n",
       "      <td>1926-01-01</td>\n",
       "      <td>897</td>\n",
       "    </tr>\n",
       "    <tr>\n",
       "      <th>2</th>\n",
       "      <td>50049192</td>\n",
       "      <td>1999-09-28</td>\n",
       "      <td>3899</td>\n",
       "      <td>389</td>\n",
       "      <td>Hearing loss</td>\n",
       "      <td>1926-01-01</td>\n",
       "      <td>898</td>\n",
       "    </tr>\n",
       "    <tr>\n",
       "      <th>3</th>\n",
       "      <td>50049192</td>\n",
       "      <td>2000-03-31</td>\n",
       "      <td>4149</td>\n",
       "      <td>411</td>\n",
       "      <td>Other chronic ischemic heart disease, unspecified</td>\n",
       "      <td>1926-01-01</td>\n",
       "      <td>904</td>\n",
       "    </tr>\n",
       "    <tr>\n",
       "      <th>4</th>\n",
       "      <td>50049192</td>\n",
       "      <td>2000-09-28</td>\n",
       "      <td>5119</td>\n",
       "      <td>507</td>\n",
       "      <td>Pleurisy; pleural effusion</td>\n",
       "      <td>1926-01-01</td>\n",
       "      <td>910</td>\n",
       "    </tr>\n",
       "    <tr>\n",
       "      <th>5</th>\n",
       "      <td>50049192</td>\n",
       "      <td>2000-11-24</td>\n",
       "      <td>1628</td>\n",
       "      <td>165</td>\n",
       "      <td>Cancer of bronchus; lung</td>\n",
       "      <td>1926-01-01</td>\n",
       "      <td>912</td>\n",
       "    </tr>\n",
       "    <tr>\n",
       "      <th>6</th>\n",
       "      <td>50049192</td>\n",
       "      <td>2000-12-27</td>\n",
       "      <td>1628</td>\n",
       "      <td>165</td>\n",
       "      <td>Cancer of bronchus; lung</td>\n",
       "      <td>1926-01-01</td>\n",
       "      <td>913</td>\n",
       "    </tr>\n",
       "    <tr>\n",
       "      <th>7</th>\n",
       "      <td>50119996</td>\n",
       "      <td>1998-02-18</td>\n",
       "      <td>2729</td>\n",
       "      <td>272</td>\n",
       "      <td>Unspecified disorder of lipoid metabolism</td>\n",
       "      <td>1915-09-01</td>\n",
       "      <td>1004</td>\n",
       "    </tr>\n",
       "    <tr>\n",
       "      <th>8</th>\n",
       "      <td>50119996</td>\n",
       "      <td>1998-03-14</td>\n",
       "      <td>3007</td>\n",
       "      <td>303</td>\n",
       "      <td>Somatoform disorder</td>\n",
       "      <td>1915-09-01</td>\n",
       "      <td>1005</td>\n",
       "    </tr>\n",
       "    <tr>\n",
       "      <th>9</th>\n",
       "      <td>50119996</td>\n",
       "      <td>1999-02-06</td>\n",
       "      <td>9200</td>\n",
       "      <td>916</td>\n",
       "      <td>Contusion</td>\n",
       "      <td>1915-09-01</td>\n",
       "      <td>1016</td>\n",
       "    </tr>\n",
       "  </tbody>\n",
       "</table>\n",
       "</div>"
      ],
      "text/plain": [
       "         id        date   icd  PheCode  \\\n",
       "0  50049192  1999-08-09  4931      495   \n",
       "1  50049192  1999-08-23  7998     1019   \n",
       "2  50049192  1999-09-28  3899      389   \n",
       "3  50049192  2000-03-31  4149      411   \n",
       "4  50049192  2000-09-28  5119      507   \n",
       "5  50049192  2000-11-24  1628      165   \n",
       "6  50049192  2000-12-27  1628      165   \n",
       "7  50119996  1998-02-18  2729      272   \n",
       "8  50119996  1998-03-14  3007      303   \n",
       "9  50119996  1999-02-06  9200      916   \n",
       "\n",
       "                                           Phenotype month_of_birth  \\\n",
       "0                                             Asthma     1926-01-01   \n",
       "1  Other ill-defined and unknown causes of morbid...     1926-01-01   \n",
       "2                                       Hearing loss     1926-01-01   \n",
       "3  Other chronic ischemic heart disease, unspecified     1926-01-01   \n",
       "4                         Pleurisy; pleural effusion     1926-01-01   \n",
       "5                           Cancer of bronchus; lung     1926-01-01   \n",
       "6                           Cancer of bronchus; lung     1926-01-01   \n",
       "7          Unspecified disorder of lipoid metabolism     1915-09-01   \n",
       "8                                Somatoform disorder     1915-09-01   \n",
       "9                                          Contusion     1915-09-01   \n",
       "\n",
       "   age_at_diag  \n",
       "0          896  \n",
       "1          897  \n",
       "2          898  \n",
       "3          904  \n",
       "4          910  \n",
       "5          912  \n",
       "6          913  \n",
       "7         1004  \n",
       "8         1005  \n",
       "9         1016  "
      ]
     },
     "execution_count": 2,
     "metadata": {},
     "output_type": "execute_result"
    }
   ],
   "source": [
    "import pandas as pd\n",
    "\n",
    "# 1) Load the processed_pophr_data file\n",
    "df = pd.read_csv('data/processed_pophr_data.csv')\n",
    "\n",
    "# 2) Show the top 10 rows\n",
    "df.head(10)"
   ]
  },
  {
   "cell_type": "code",
   "execution_count": 7,
   "id": "d4a17887",
   "metadata": {},
   "outputs": [
    {
     "name": "stdout",
     "output_type": "stream",
     "text": [
      "151 19 19\n",
      "Total training patients: 151\n",
      "Max sequence length in EHRDataset: 256\n"
     ]
    }
   ],
   "source": [
    "## 1. Data Loading with `data_provider`\n",
    "\n",
    "'''\n",
    "The `data_provider` function (in `data/data_pipeline.py`) wraps our `EHRDataset`, which by default uses `max_length=256`. Any patient sequence longer than 256 visits will automatically be truncated by **removing the oldest (leftmost)** visits, keeping only the most recent 256 events.\n",
    "'''\n",
    "\n",
    "from data import data_pipeline\n",
    "from data.data_pipeline import data_provider\n",
    "\n",
    "# 2. Set parameters\n",
    "batch_size = 32\n",
    "max_length = 256\n",
    "\n",
    "# 3. Load datasets and dataloaders\n",
    "train_dataset, train_dataloader, \\\n",
    "valid_dataset, valid_dataloader, \\\n",
    "test_dataset, test_dataloader = data_provider(\n",
    "    batch_size=batch_size,\n",
    "    max_length=max_length\n",
    ")\n",
    "\n",
    "# 4. Inspect the Dataset object\n",
    "print(f\"Total training patients: {len(train_dataset)}\")\n",
    "print(f\"Max sequence length in EHRDataset: {train_dataset.max_length}\")\n"
   ]
  },
  {
   "cell_type": "code",
   "execution_count": 10,
   "id": "a0c0fdd2",
   "metadata": {},
   "outputs": [
    {
     "name": "stdout",
     "output_type": "stream",
     "text": [
      "Batch 0 — phecode_seq shape: torch.Size([32, 256])\n",
      "           age_seq     shape: torch.Size([32, 256])\n",
      "Sample phecode IDs (first patient, first 10): [870, 706, 681, 870, 870, 870, 686, 870, 565, 871]\n",
      "Sample time stamps for PheCodes (first patient, first 10): [0, 261, 262, 263, 265, 266, 268, 270, 273, 277]\n"
     ]
    }
   ],
   "source": [
    "## 2. Iterate Over One Batch\n",
    "'''\n",
    "Each batch yields two tensors of shape `(batch_size, max_length)`:\n",
    "- **phecode_seq**: sequence of PheCode token IDs. \n",
    "- **age_seq**:   corresponding ages (in months) padded/truncated to length 256. The first age is fixed as 0, indicating [SOS] token.\n",
    "'''\n",
    "for batch_idx, (phecode_seq, age_seq) in enumerate(train_dataloader):\n",
    "    print(f\"Batch {batch_idx} — phecode_seq shape: {phecode_seq.shape}\")\n",
    "    print(f\"           age_seq     shape: {age_seq.shape}\")\n",
    "    # phecode_seq[:, :10] shows the first 10 tokens of the first patient in the batch\n",
    "    print(\"Sample phecode IDs (first patient, first 10):\", phecode_seq[0, :10].tolist())\n",
    "    print(\"Sample time stamps for PheCodes (first patient, first 10):\", age_seq[0, :10].tolist())\n",
    "    break"
   ]
  },
  {
   "cell_type": "markdown",
   "id": "dbc41913",
   "metadata": {},
   "source": [
    "### Notes of Dataset Construction\n",
    "\n",
    "- **Truncation**: When the number of visits > `max_length` (by defacult 256), the dataset **drops the oldest** visits, keeping the most recent ones.  \n",
    "- **Padding**: Sequences shorter than 256 are right-padded with zeros.  "
   ]
  },
  {
   "cell_type": "markdown",
   "id": "1bb777df",
   "metadata": {},
   "source": [
    "## 2. Model initialization\n",
    "\n",
    "TrajGPT model is fully configurable via command-line flags in the file ```run_pretrain.py```.\n",
    "\n",
    "Below is a summary of the most important parameters and how to set them."
   ]
  },
  {
   "cell_type": "code",
   "execution_count": 23,
   "id": "cc71548d",
   "metadata": {},
   "outputs": [
    {
     "name": "stdout",
     "output_type": "stream",
     "text": [
      "Microsoft Windows [Version 10.0.26100.4061]\r\n",
      "(c) Microsoft Corporation. All rights reserved.\r\n",
      "\r\n",
      "(base) C:\\Users\\ziyan\\PycharmProjects\\TrajGPT>python run_pretrain.py \\\n",
      "\r\n",
      "(base) C:\\Users\\ziyan\\PycharmProjects\\TrajGPT>--model            TrajGPT \\\n",
      "\r\n",
      "(base) C:\\Users\\ziyan\\PycharmProjects\\TrajGPT>--root_path        ./data/ \\  \n",
      "\r\n",
      "(base) C:\\Users\\ziyan\\PycharmProjects\\TrajGPT>--data_path        processed_pophr_data.csv \\   \n",
      "\r\n",
      "(base) C:\\Users\\ziyan\\PycharmProjects\\TrajGPT>--seq_len          256 \\       \n",
      "\r\n",
      "(base) C:\\Users\\ziyan\\PycharmProjects\\TrajGPT>--pred_len         128 \\       \n",
      "\r\n",
      "(base) C:\\Users\\ziyan\\PycharmProjects\\TrajGPT>--num_heads        4 \\        \n",
      "\r\n",
      "(base) C:\\Users\\ziyan\\PycharmProjects\\TrajGPT>--num_layers       4 \\         \n",
      "\r\n",
      "(base) C:\\Users\\ziyan\\PycharmProjects\\TrajGPT>--d_model          200 \\     \n",
      "\r\n",
      "(base) C:\\Users\\ziyan\\PycharmProjects\\TrajGPT>--qk_dim           200 \\       \n",
      "\r\n",
      "(base) C:\\Users\\ziyan\\PycharmProjects\\TrajGPT>--v_dim            200 \\       \n",
      "\r\n",
      "(base) C:\\Users\\ziyan\\PycharmProjects\\TrajGPT>--tau              20 \\        \n",
      "\r\n",
      "(base) C:\\Users\\ziyan\\PycharmProjects\\TrajGPT>--ffn_proj_size    800 \\       \n",
      "\r\n",
      "(base) C:\\Users\\ziyan\\PycharmProjects\\TrajGPT>--forward_impl     parallel \\ \n",
      "\r\n",
      "(base) C:\\Users\\ziyan\\PycharmProjects\\TrajGPT>--use_default_gamma False \\   \n",
      "\r\n",
      "(base) C:\\Users\\ziyan\\PycharmProjects\\TrajGPT>--forecast_method  time_specific \n",
      "\r\n",
      "(base) C:\\Users\\ziyan\\PycharmProjects\\TrajGPT>"
     ]
    },
    {
     "name": "stderr",
     "output_type": "stream",
     "text": [
      "Traceback (most recent call last):\r\n",
      "  File \"C:\\Users\\ziyan\\PycharmProjects\\TrajGPT\\run_pretrain.py\", line 3, in <module>\r\n",
      "    from models.TrajGPT import TrajGPT\r\n",
      "  File \"C:\\Users\\ziyan\\PycharmProjects\\TrajGPT\\models\\TrajGPT.py\", line 8, in <module>\r\n",
      "    from layers.SRA_layers import SRA_Block\r\n",
      "  File \"C:\\Users\\ziyan\\PycharmProjects\\TrajGPT\\layers\\SRA_layers.py\", line 12, in <module>\r\n",
      "    logger = logging.get_logger(__name__)\r\n",
      "AttributeError: module 'logging' has no attribute 'get_logger'\r\n",
      "'--model' is not recognized as an internal or external command,\r\n",
      "operable program or batch file.\r\n",
      "'--root_path' is not recognized as an internal or external command,\r\n",
      "operable program or batch file.\r\n",
      "'--data_path' is not recognized as an internal or external command,\r\n",
      "operable program or batch file.\r\n",
      "'--seq_len' is not recognized as an internal or external command,\r\n",
      "operable program or batch file.\r\n",
      "'--pred_len' is not recognized as an internal or external command,\r\n",
      "operable program or batch file.\r\n",
      "'--num_heads' is not recognized as an internal or external command,\r\n",
      "operable program or batch file.\r\n",
      "'--num_layers' is not recognized as an internal or external command,\r\n",
      "operable program or batch file.\r\n",
      "'--d_model' is not recognized as an internal or external command,\r\n",
      "operable program or batch file.\r\n",
      "'--qk_dim' is not recognized as an internal or external command,\r\n",
      "operable program or batch file.\r\n",
      "'--v_dim' is not recognized as an internal or external command,\r\n",
      "operable program or batch file.\r\n",
      "'--tau' is not recognized as an internal or external command,\r\n",
      "operable program or batch file.\r\n",
      "'--ffn_proj_size' is not recognized as an internal or external command,\r\n",
      "operable program or batch file.\r\n",
      "'--forward_impl' is not recognized as an internal or external command,\r\n",
      "operable program or batch file.\r\n",
      "'--use_default_gamma' is not recognized as an internal or external command,\r\n",
      "operable program or batch file.\r\n",
      "'--forecast_method' is not recognized as an internal or external command,\r\n",
      "operable program or batch file.\r\n"
     ]
    }
   ],
   "source": [
    "%%cmd\n",
    "python run_pretrain.py \\\n",
    "--model            TrajGPT \\\n",
    "--root_path        ./data/ \\  \n",
    "--data_path        processed_pophr_data.csv \\   \n",
    "--seq_len          256 \\       \n",
    "--pred_len         128 \\       \n",
    "--num_heads        4 \\        \n",
    "--num_layers       4 \\         \n",
    "--d_model          200 \\     \n",
    "--qk_dim           200 \\       \n",
    "--v_dim            200 \\       \n",
    "--tau              20 \\        \n",
    "--ffn_proj_size    800 \\       \n",
    "--forward_impl     parallel \\ \n",
    "--use_default_gamma False \\   \n",
    "--forecast_method  time_specific "
   ]
  },
  {
   "cell_type": "markdown",
   "id": "b2e5a5f9",
   "metadata": {},
   "source": [
    "| Flag                 | Type  | Default        | Description                                                     |\n",
    "|:---------------------|:------|:---------------|:----------------------------------------------------------------|\n",
    "| `--root_path`        | Str   | -              | Path to the datasets                                            |\n",
    "| `--data_path`        | Str   | -              | Input sequence length                                           |\n",
    "| `--seq_len`          | int   | 256            | Length of input token sequence                                  |\n",
    "| `--pred_len`         | int   | 128            | Number of future steps to predict                               |\n",
    "| `--num_heads`        | int   | 4              | Number of SRA attention heads                                   |\n",
    "| `--num_layers`       | int   | 4              | Number of stacked SRA blocks                                    |\n",
    "| `--d_model`          | int   | 200            | Hidden dimension of model                                       |\n",
    "| `--qk_dim`           | int   | 200            | Dimension of Q and K projections                                |\n",
    "| `--v_dim`            | int   | 200            | Dimension of V projections                                      |\n",
    "| `--ffn_proj_size`    | int   | 800            | Dimension of the feed-forward layer                             |\n",
    "| `--tau`              | int   | 20             | Temperature for data-dependent decay                            |\n",
    "| `--forward_impl`     | str   | `parallel`     | SRA forward-pass: `parallel` or `recurrent`                     |\n",
    "| `--forecast_method`  | str   | `time_specific`| Forecasting method: `time_specific` or `auto_regressive`        |\n",
    "\n",
    "\n"
   ]
  },
  {
   "cell_type": "markdown",
   "id": "10111f7f",
   "metadata": {},
   "source": [
    "You can also pass a ***TrajGPTConfig*** object to its constructor.  "
   ]
  },
  {
   "cell_type": "code",
   "execution_count": null,
   "id": "b6b2fe8e",
   "metadata": {},
   "outputs": [],
   "source": [
    "from models.TrajGPT import TrajGPT, TrajGPTConfig\n",
    "\n",
    "\n",
    "config = TrajGPTConfig(\n",
    "    num_layers=4, # number of layers\n",
    "    num_heads=4, # number of heads\n",
    "    d_model=200, # hidden dimension\n",
    "    qk_dim=200, # hidden dimension for q and k, it is defacult same as d_model\n",
    "    v_dim=200,  # hidden dimension for v, it could be different for qk_dim\n",
    "    tau=20,    # tempature parameter for data-dependent decay\n",
    "    ffn_proj_size=800, # hidden dimension for feed-forward layer\n",
    "    use_bias_in_sra=False,\n",
    "    use_bias_in_mlp=True,\n",
    "    use_bias_in_sra_out=False,\n",
    "    use_default_gamma=False,\n",
    "    output_retentions=False,\n",
    "    forward_impl=\"parallel\",\n",
    ")\n",
    "model = TrajGPT(config, head_type=\"pretrain\")"
   ]
  },
  {
   "cell_type": "markdown",
   "id": "a907e0f2",
   "metadata": {},
   "source": [
    "## 3. Pre‐training Stage\n",
    "\n",
    "Here we instantiate `TrajGPT` in **pretrain** mode and optimize a next‐token prediction objective using `nn.CrossEntropyLoss` and the Adam optimizer. \n",
    "\n",
    "We train for `train_epochs` epochs, recording the average training loss each epoch and evaluating on the validation set to monitor convergence and select the best checkpoint."
   ]
  },
  {
   "cell_type": "code",
   "execution_count": null,
   "id": "52171bd7",
   "metadata": {},
   "outputs": [],
   "source": [
    "# Here, we use the configs from the provided arguments\n",
    "# The head type is selected as 'pretrain' mode\n",
    "model = TrajGPT(configs=args, head_type='pretrain').to(device=device) \n",
    "\n",
    "criterion = nn.CrossEntropyLoss()\n",
    "model_optim = optim.Adam(model.parameters(), lr=0.000001)\n",
    "train_dataset, train_dataloader, valid_dataset, valid_dataloader, test_dataset, test_dataloader = data_provider(args.batch_size, max_length=256)\n",
    "\n",
    "train_loss = []\n",
    "train_epochs = 20\n",
    "for epoch in range(train_epochs):\n",
    "    # pre-train the model\n",
    "    model.train()\n",
    "    for i, (batch_x, batch_t) in enumerate(train_dataloader):\n",
    "        batch_x = batch_x.to(device)\n",
    "        batch_t = batch_t.to(device)\n",
    "        model_optim.zero_grad()\n",
    "        loss = model(X=batch_x, t=batch_t, y=batch_x, forward_impl=args.forward_impl)\n",
    "        loss.backward()\n",
    "        model_optim.step()\n",
    "        train_loss.append(loss.item())\n",
    "    print('epoch: {}, train_loss: {}'.format(epoch, np.mean(train_loss)))\n",
    "    \n",
    "    # select the best model during pre-training\n",
    "    model.eval()\n",
    "    valid_loss = []\n",
    "    with torch.no_grad():\n",
    "        for i, (batch_x, batch_t) in enumerate(valid_dataloader):\n",
    "            batch_x = batch_x.to(device)\n",
    "            batch_t = batch_t.to(device)\n",
    "            loss = model(X=batch_x, t=batch_t, y=batch_x, forward_impl=args.forward_impl)\n",
    "            valid_loss.append(loss.item())\n",
    "        print('epoch: {}, valid_loss: {}'.format(epoch, np.mean(valid_loss)))\n",
    "                                                "
   ]
  },
  {
   "cell_type": "markdown",
   "id": "7947520d",
   "metadata": {},
   "source": [
    "## 4.  Visualization by UMAP\n",
    "\n",
    "After pre-training, we learned a 200-dimensional phecode embedding vectors. We visualize the learned token embedding by projecting into two dimensions using UMAP technique, where each point (token)is colored by its clinical category. \n",
    "\n",
    "Notice how PheCodes from the same system (e.g. circulatory, digestive, respiratory) form tight clusters, suggesting that the learned embeddings capture meaningful phenotypic groupings.\n",
    "\n",
    "Below we can re-run the standalone visualization script to regenerate this figure:"
   ]
  },
  {
   "cell_type": "code",
   "execution_count": 31,
   "id": "ced1d784",
   "metadata": {},
   "outputs": [
    {
     "name": "stderr",
     "output_type": "stream",
     "text": [
      "C:\\Users\\ziyan\\PycharmProjects\\TrajGPT\\UMAP_vis.py:13: UserWarning: You are merging on int and float columns where the float values are not equal to their int representation.\n",
      "  merged = emb.merge(defs, on='phecode', how='left')\n"
     ]
    },
    {
     "data": {
      "image/png": "[encoded data removed]",
      "text/plain": [
       "<Figure size 640x480 with 1 Axes>"
      ]
     },
     "metadata": {},
     "output_type": "display_data"
    },
    {
     "data": {
      "text/plain": [
       "<Figure size 640x480 with 0 Axes>"
      ]
     },
     "metadata": {},
     "output_type": "display_data"
    }
   ],
   "source": [
    "%matplotlib inline\n",
    "%run UMAP_vis.py "
   ]
  },
  {
   "cell_type": "markdown",
   "id": "6fc32561",
   "metadata": {},
   "source": [
    "## Forecasting (auto‐regressive and time‐specific) \n",
    "\n",
    "TrajGPT supports two inference strategies for forecasting. \n",
    "\n",
    "1. Auto-Regressive Inference: Just like a standard GPT, we generate one token at a time in a causal loop using the previous hidden states. \n",
    "\n",
    "\n",
    "2. Time-Specific Inference. It leverages the ODE's property, it can directly predict arbitrary future timestamps using the final observed hidden states. \n",
    "\n",
    "\n",
    "To switch between these modes, modify the `--forecast_method` flag in the argument parser:\n",
    "```\n",
    "    parser.add_argument('--forecast_method', type=str, default='time_specific',\n",
    "                        help='forecasting implementation, options:[time_specific, auto_regressive]')\n",
    "```"
   ]
  }
 ],
 "metadata": {
  "kernelspec": {
   "display_name": "Python 3 (ipykernel)",
   "language": "python",
   "name": "python3"
  },
  "language_info": {
   "codemirror_mode": {
    "name": "ipython",
    "version": 3
   },
   "file_extension": ".py",
   "mimetype": "text/x-python",
   "name": "python",
   "nbconvert_exporter": "python",
   "pygments_lexer": "ipython3",
   "version": "3.9.13"
  }
 },
 "nbformat": 4,
 "nbformat_minor": 5
}
